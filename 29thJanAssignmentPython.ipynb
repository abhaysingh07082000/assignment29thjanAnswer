{
 "cells": [
  {
   "cell_type": "markdown",
   "id": "6b04b926-954e-4eec-a824-42ea0787ea94",
   "metadata": {},
   "source": [
    "1. Who  dovolopodPythonProgramminglanguage?\n",
    "2. Whichtypeof ProgrammingdoesPython support?\n",
    "3. Is Pythoncasesensitive when dealingwithIdentifiers?\n",
    "4. What Is tho conoctextensionof tho Python flle?\n",
    "5. Is Pythoncodecompiledor Interpreted?\n",
    "6. Namea tow blocks of codeused to defineIn Pythonlanguage?\n",
    "7. Statea character usedto giveslngto-llno commentsIn Python?\n",
    "8. Mentionfunctions whichcan helpusto findthoversionof python that wearecurrently working on?\n",
    "9. Python supportstho creationof anonymous functions at runtime,usinga construct called\n",
    "\n",
    "10. What doespipstand forpython?\n",
    "n. Mentiona tow bulit-In functions In python?\n",
    "12. WhatIs tho maximumpos.slblo lengthof anIdentifier InPython?\n",
    "13. What are the benofhs of usingPython?\n",
    "14. How Is memory managedIn Python?\n",
    "15. How to InstallPython on Windows and sot pathvariables?\n",
    "16. Is IndentationroqulrodIn python?"
   ]
  },
  {
   "cell_type": "code",
   "execution_count": 1,
   "id": "0d9512d7-8ef2-4a01-a50b-2063ebb074f7",
   "metadata": {},
   "outputs": [],
   "source": [
    "#Who developed Python Programming language?\n",
    "#Guido van Rossum in 1991\n"
   ]
  },
  {
   "cell_type": "code",
   "execution_count": 2,
   "id": "a69b4932-093c-4f07-a0cd-5b269e2013ba",
   "metadata": {},
   "outputs": [],
   "source": [
    "#Whichtypeof ProgrammingdoesPython support?\n",
    "#Imperative Programming\n",
    "#Object-Oriented Programming (OOP)\n",
    "#Functional Programming\n",
    "#Procedural Programming"
   ]
  },
  {
   "cell_type": "code",
   "execution_count": 3,
   "id": "477007a9-449c-45e6-9f49-5486c2e712ec",
   "metadata": {},
   "outputs": [],
   "source": [
    "#Is Pythoncasesensitive when dealingwithIdentifiers?\n",
    "#yes"
   ]
  },
  {
   "cell_type": "code",
   "execution_count": 4,
   "id": "42cf82e1-113e-4ccf-a06e-4805e8a1bbf3",
   "metadata": {},
   "outputs": [],
   "source": [
    "#What Is the correct extensionof tho Python flle?\n",
    "# .py"
   ]
  },
  {
   "cell_type": "code",
   "execution_count": 5,
   "id": "0258a18c-a596-4b9a-81fe-aa252b8aff73",
   "metadata": {},
   "outputs": [],
   "source": [
    "#Is Pythoncodecompiledor Interpreted?\n",
    "#phton is both compiled as well as interpreted"
   ]
  },
  {
   "cell_type": "code",
   "execution_count": 6,
   "id": "396c650a-95f5-470f-93fe-1ef1fc8a0fed",
   "metadata": {},
   "outputs": [],
   "source": [
    "#Namea few blocks of code used to define In Pythonlanguage?\n",
    "def greet(name):\n",
    "    print(f\"Hello, {name}!\")  # This is part of the function block\n"
   ]
  },
  {
   "cell_type": "code",
   "execution_count": 7,
   "id": "f3ba72c0-498f-440d-b354-303618c84c77",
   "metadata": {},
   "outputs": [],
   "source": [
    "#State a character used to gives sinle line commentsIn Python?\n",
    "# is used for sinle line cooment"
   ]
  },
  {
   "cell_type": "code",
   "execution_count": 8,
   "id": "ca239e89-c1fb-49bc-9993-40ac4d75ca9e",
   "metadata": {},
   "outputs": [],
   "source": [
    "#Mention functions which can help usto find the versiono f python that weare currently working on?\n",
    "# python --version"
   ]
  },
  {
   "cell_type": "code",
   "execution_count": 9,
   "id": "76747b73-0c33-4487-a43a-b686bfce994e",
   "metadata": {},
   "outputs": [],
   "source": [
    "# Python supports the creation of anonymous functions at runtime,using a construct called\n",
    "#lamda function"
   ]
  },
  {
   "cell_type": "code",
   "execution_count": 10,
   "id": "d92a4aa4-962e-4bcd-8c28-682d606c76a0",
   "metadata": {},
   "outputs": [],
   "source": [
    "#What doespipstand forpython?\n",
    "#pip stands for \"Pip Installs Packages\" or \"Pip Installs Python\". It is a package management system used to install and\n",
    "#manage additional libraries and dependencies that are not included with Python by default."
   ]
  },
  {
   "cell_type": "code",
   "execution_count": 11,
   "id": "a23bcdce-4f92-43a4-85d1-c6ece87bcb0c",
   "metadata": {},
   "outputs": [],
   "source": [
    "#Mention a few bulit-In functions In python?\n",
    "#type()\n",
    "#index()\n",
    "#min()\n",
    "#max()\n",
    "#sort() and many more...."
   ]
  },
  {
   "cell_type": "code",
   "execution_count": 12,
   "id": "4c87bcf1-29dc-4941-ae50-161a792c9ef9",
   "metadata": {},
   "outputs": [],
   "source": [
    "#What Is the maximum possilble length of an Identifier In Python?\n",
    "#there is no explicit maximum length for identifiers"
   ]
  },
  {
   "cell_type": "code",
   "execution_count": 13,
   "id": "ed194779-f9a9-4625-accf-5a90c31210ed",
   "metadata": {},
   "outputs": [],
   "source": [
    "#What are the benefits of usingPython?\n",
    "#Object oriented programming,robust,multithreade,distributed,high level language and manu more............."
   ]
  },
  {
   "cell_type": "code",
   "execution_count": 14,
   "id": "21a73be8-dd45-4b91-af86-a7d71b92ef83",
   "metadata": {},
   "outputs": [],
   "source": [
    "#How Is memory managed In Python?\n",
    "#Memory management in Python is handled automatically by the Python runtime environment. Python employs several strategies and mechanisms \n",
    "#to manage memory efficiently, including garbage collection, reference counting, and memory pools."
   ]
  },
  {
   "cell_type": "code",
   "execution_count": 15,
   "id": "fbfdb484-f1b8-4dc5-b7b3-21ceee932f15",
   "metadata": {},
   "outputs": [],
   "source": [
    "#How to Install Python on Windows and set pathvariables?\n",
    "#After downloading python installer we have to set a path variables which we can find it in the advance settings."
   ]
  },
  {
   "cell_type": "code",
   "execution_count": null,
   "id": "96e54765-3b60-4c8a-9bbc-86654eb30aab",
   "metadata": {},
   "outputs": [],
   "source": [
    "#Is Indentation required In python?\n",
    "#yes"
   ]
  }
 ],
 "metadata": {
  "kernelspec": {
   "display_name": "Python 3 (ipykernel)",
   "language": "python",
   "name": "python3"
  },
  "language_info": {
   "codemirror_mode": {
    "name": "ipython",
    "version": 3
   },
   "file_extension": ".py",
   "mimetype": "text/x-python",
   "name": "python",
   "nbconvert_exporter": "python",
   "pygments_lexer": "ipython3",
   "version": "3.12.4"
  }
 },
 "nbformat": 4,
 "nbformat_minor": 5
}
